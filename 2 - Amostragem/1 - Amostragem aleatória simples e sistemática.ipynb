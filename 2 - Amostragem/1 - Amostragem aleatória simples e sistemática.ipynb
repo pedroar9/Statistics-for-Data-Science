{
 "cells": [
  {
   "cell_type": "markdown",
   "id": "32d95465",
   "metadata": {},
   "source": [
    "# `Amostragem Aleatória Simples`\n",
    "\n",
    "#### Vamos ver como podemos calcular amostras com o método de amostragem aleatória simples.\n",
    "\n",
    "![alt_text](https://www.netquest.com/hubfs/Imported_Blog_Media/imagempost.png)\n"
   ]
  },
  {
   "cell_type": "markdown",
   "id": "68086fdc",
   "metadata": {},
   "source": [
    "<br>\n"
   ]
  },
  {
   "cell_type": "markdown",
   "id": "c876611f",
   "metadata": {},
   "source": [
    "#### Essa é a forma mais simples de se amostrar em termos de código. O Python tem seu método bult-in para cálculo de amostras aleatórias, assim como a biblioteca pandas, bastante utilizada para análise exploratória de dados.\n"
   ]
  },
  {
   "cell_type": "code",
   "execution_count": null,
   "id": "9b84ed58",
   "metadata": {},
   "outputs": [],
   "source": []
  },
  {
   "cell_type": "markdown",
   "id": "fbab8e6d",
   "metadata": {},
   "source": [
    "#### Vamos utilizar a função sample do Python para calcular amostras aleatórias de uma lista, que consideraremos como nossa população\n"
   ]
  },
  {
   "cell_type": "code",
   "execution_count": null,
   "id": "49752fab",
   "metadata": {},
   "outputs": [],
   "source": [
    "from random import sample"
   ]
  },
  {
   "cell_type": "code",
   "execution_count": null,
   "id": "5b666659",
   "metadata": {},
   "outputs": [],
   "source": [
    "populacao = [1, 2, 3, 4, 5, 6, 7, 8, 9, 10, 11, 12]"
   ]
  },
  {
   "cell_type": "code",
   "execution_count": null,
   "id": "def4c701",
   "metadata": {},
   "outputs": [],
   "source": []
  },
  {
   "cell_type": "markdown",
   "id": "6cf93534",
   "metadata": {},
   "source": [
    "Amostra aleatória simples de tamanho 4\n"
   ]
  },
  {
   "cell_type": "code",
   "execution_count": null,
   "id": "97119864",
   "metadata": {},
   "outputs": [],
   "source": [
    "sample(populacao, 4)"
   ]
  },
  {
   "cell_type": "code",
   "execution_count": null,
   "id": "a3324a53",
   "metadata": {},
   "outputs": [],
   "source": [
    "sample(populacao, 4)"
   ]
  },
  {
   "cell_type": "code",
   "execution_count": null,
   "id": "039fb577",
   "metadata": {},
   "outputs": [],
   "source": [
    "sample(populacao, 4)"
   ]
  },
  {
   "cell_type": "code",
   "execution_count": null,
   "id": "d82ca91e",
   "metadata": {},
   "outputs": [],
   "source": [
    "sample(populacao, 4)"
   ]
  },
  {
   "cell_type": "code",
   "execution_count": null,
   "id": "ff60e7f6",
   "metadata": {},
   "outputs": [],
   "source": []
  },
  {
   "cell_type": "markdown",
   "id": "d02f0f0f",
   "metadata": {},
   "source": [
    "#### Importando a biblioteca pandas (https://pandas.pydata.org)\n"
   ]
  },
  {
   "cell_type": "code",
   "execution_count": null,
   "id": "dd3dbedf",
   "metadata": {},
   "outputs": [],
   "source": [
    "import pandas"
   ]
  },
  {
   "cell_type": "code",
   "execution_count": null,
   "id": "15849766",
   "metadata": {},
   "outputs": [],
   "source": [
    "df = pandas.DataFrame(populacao, columns=[\"values\"])\n",
    "df"
   ]
  },
  {
   "cell_type": "code",
   "execution_count": null,
   "id": "6a23cc82",
   "metadata": {},
   "outputs": [],
   "source": []
  },
  {
   "cell_type": "markdown",
   "id": "877285f4",
   "metadata": {},
   "source": [
    "Amostra aleatória simples de tamanho 4\n"
   ]
  },
  {
   "cell_type": "code",
   "execution_count": null,
   "id": "61098015",
   "metadata": {},
   "outputs": [],
   "source": [
    "df.sample(n=4)"
   ]
  },
  {
   "cell_type": "code",
   "execution_count": null,
   "id": "ddc70102",
   "metadata": {},
   "outputs": [],
   "source": [
    "df.sample(n=4)"
   ]
  },
  {
   "cell_type": "code",
   "execution_count": null,
   "id": "90845765",
   "metadata": {},
   "outputs": [],
   "source": [
    "df.sample(n=4)"
   ]
  },
  {
   "cell_type": "code",
   "execution_count": null,
   "id": "10d32ab5",
   "metadata": {},
   "outputs": [],
   "source": []
  },
  {
   "cell_type": "code",
   "execution_count": null,
   "id": "7f0440d6",
   "metadata": {},
   "outputs": [],
   "source": []
  },
  {
   "cell_type": "markdown",
   "id": "711132ae",
   "metadata": {},
   "source": [
    "Ao invés de passar o tamanho da amostra que queremos para o Pandas, podemos passar a proporção do todo que queremos na nossa amostra.\n"
   ]
  },
  {
   "cell_type": "code",
   "execution_count": null,
   "id": "638b9317",
   "metadata": {},
   "outputs": [],
   "source": [
    "df.sample(frac=0.33)"
   ]
  },
  {
   "cell_type": "code",
   "execution_count": null,
   "id": "36a3ea11",
   "metadata": {},
   "outputs": [],
   "source": [
    "df.sample(frac=0.33)"
   ]
  },
  {
   "cell_type": "code",
   "execution_count": null,
   "id": "dc3a8b9e",
   "metadata": {},
   "outputs": [],
   "source": [
    "df.sample(frac=0.33)"
   ]
  },
  {
   "cell_type": "code",
   "execution_count": null,
   "id": "4a72cd5f",
   "metadata": {},
   "outputs": [],
   "source": []
  },
  {
   "cell_type": "code",
   "execution_count": null,
   "id": "a835b2ec",
   "metadata": {},
   "outputs": [],
   "source": []
  },
  {
   "cell_type": "code",
   "execution_count": null,
   "id": "7ab54bba",
   "metadata": {},
   "outputs": [],
   "source": []
  },
  {
   "cell_type": "code",
   "execution_count": null,
   "id": "4589cfcc",
   "metadata": {},
   "outputs": [],
   "source": []
  },
  {
   "cell_type": "code",
   "execution_count": null,
   "id": "a74e617f",
   "metadata": {},
   "outputs": [],
   "source": []
  },
  {
   "cell_type": "markdown",
   "id": "e1c0ef0a",
   "metadata": {},
   "source": [
    "# `Amostragem Sistemática`\n",
    "\n",
    "#### Vamos ver como podemos calcular amostras com o método de amostragem sistemática.\n",
    "\n",
    "![alt_text](https://www.netquest.com/hubfs/Imported_Blog_Media/Post-blog.png)\n"
   ]
  },
  {
   "cell_type": "markdown",
   "id": "7736af47",
   "metadata": {},
   "source": [
    "<br>\n"
   ]
  },
  {
   "cell_type": "markdown",
   "id": "3510df81",
   "metadata": {},
   "source": [
    "#### Vamos usar o exemplo acima, onde pegamos a terceira ocorrência, começando da segunda observação.\n"
   ]
  },
  {
   "cell_type": "code",
   "execution_count": null,
   "id": "6446bc93",
   "metadata": {},
   "outputs": [],
   "source": [
    "import numpy as np"
   ]
  },
  {
   "cell_type": "code",
   "execution_count": null,
   "id": "94818a87",
   "metadata": {},
   "outputs": [],
   "source": []
  },
  {
   "cell_type": "markdown",
   "id": "9b3d9a9f",
   "metadata": {},
   "source": [
    "#### Usando python puro, ficaria assim:\n"
   ]
  },
  {
   "cell_type": "code",
   "execution_count": null,
   "id": "8e420b14",
   "metadata": {},
   "outputs": [],
   "source": [
    "tamanho_populacao = len(populacao)"
   ]
  },
  {
   "cell_type": "code",
   "execution_count": null,
   "id": "08048157",
   "metadata": {},
   "outputs": [],
   "source": [
    "for i in range(1, tamanho_populacao, 3):\n",
    "    print(i)"
   ]
  },
  {
   "cell_type": "code",
   "execution_count": null,
   "id": "7c05b0d9",
   "metadata": {},
   "outputs": [],
   "source": []
  },
  {
   "cell_type": "code",
   "execution_count": null,
   "id": "c0d227ab",
   "metadata": {},
   "outputs": [],
   "source": []
  },
  {
   "cell_type": "code",
   "execution_count": null,
   "id": "79b2953d",
   "metadata": {},
   "outputs": [],
   "source": [
    "amostra_sistematica_exemplo = []\n",
    "for i in range(1, tamanho_populacao, 3):\n",
    "    amostra_sistematica_exemplo.append(populacao[i])"
   ]
  },
  {
   "cell_type": "code",
   "execution_count": null,
   "id": "96d9aaf6",
   "metadata": {},
   "outputs": [],
   "source": [
    "amostra_sistematica_exemplo"
   ]
  },
  {
   "cell_type": "markdown",
   "id": "421a61c4",
   "metadata": {},
   "source": [
    "#### Exatamente como no exemplo!!\n"
   ]
  },
  {
   "cell_type": "code",
   "execution_count": null,
   "id": "3d019807",
   "metadata": {},
   "outputs": [],
   "source": []
  },
  {
   "cell_type": "code",
   "execution_count": null,
   "id": "3e93c280",
   "metadata": {},
   "outputs": [],
   "source": []
  },
  {
   "cell_type": "markdown",
   "id": "f6e44746",
   "metadata": {},
   "source": [
    "#### Para calcularmos uma amostra sistemática no Pandas, a lógica é a mesma. Vamos utilizar os índices do pandas para filtrar somente as posições que queremos\n"
   ]
  },
  {
   "cell_type": "code",
   "execution_count": null,
   "id": "58761513",
   "metadata": {},
   "outputs": [],
   "source": [
    "np.arange(1, 12, step=3)"
   ]
  },
  {
   "cell_type": "code",
   "execution_count": null,
   "id": "afbcee5b",
   "metadata": {},
   "outputs": [],
   "source": [
    "def amostragem_sistematica(df, inicio=0, step=3):\n",
    "    indexes = np.arange(inicio, df.shape[0], step=step)\n",
    "    amostra = df.iloc[indexes]\n",
    "    return amostra"
   ]
  },
  {
   "cell_type": "code",
   "execution_count": null,
   "id": "9f83a5c1",
   "metadata": {},
   "outputs": [],
   "source": [
    "amostragem_sistematica(df, 1, 3)"
   ]
  },
  {
   "cell_type": "code",
   "execution_count": null,
   "id": "60949639",
   "metadata": {},
   "outputs": [],
   "source": []
  },
  {
   "cell_type": "markdown",
   "id": "fffbe983",
   "metadata": {},
   "source": [
    "#### Exatamente como no exemplo!!\n"
   ]
  }
 ],
 "metadata": {
  "kernelspec": {
   "display_name": "Python 3 (ipykernel)",
   "language": "python",
   "name": "python3"
  },
  "language_info": {
   "codemirror_mode": {
    "name": "ipython",
    "version": 3
   },
   "file_extension": ".py",
   "mimetype": "text/x-python",
   "name": "python",
   "nbconvert_exporter": "python",
   "pygments_lexer": "ipython3",
   "version": "3.12.1"
  }
 },
 "nbformat": 4,
 "nbformat_minor": 5
}
